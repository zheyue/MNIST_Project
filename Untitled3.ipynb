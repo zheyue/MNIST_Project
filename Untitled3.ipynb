{
  "nbformat": 4,
  "nbformat_minor": 0,
  "metadata": {
    "colab": {
      "name": "Untitled3.ipynb",
      "provenance": [],
      "authorship_tag": "ABX9TyNaBJ0D3WEnB/eddkSLc60y",
      "include_colab_link": true
    },
    "kernelspec": {
      "name": "python3",
      "display_name": "Python 3"
    }
  },
  "cells": [
    {
      "cell_type": "markdown",
      "metadata": {
        "id": "view-in-github",
        "colab_type": "text"
      },
      "source": [
        "<a href=\"https://colab.research.google.com/github/zheyue/MNIST_project/blob/master/Untitled3.ipynb\" target=\"_parent\"><img src=\"https://colab.research.google.com/assets/colab-badge.svg\" alt=\"Open In Colab\"/></a>"
      ]
    },
    {
      "cell_type": "code",
      "metadata": {
        "id": "5Bkq3TRNeTbs",
        "outputId": "346714df-5e2a-4e24-a0e5-d6ae6a379645",
        "colab": {
          "base_uri": "https://localhost:8080/",
          "height": 153
        }
      },
      "source": [
        "import requests\n",
        "import time\n",
        "\n",
        "image_urls = ['https://images.unsplash.com/photo-1574696157422-07035c537916',\n",
        "'https://images.unsplash.com/photo-1537319437335-81e757556deb',\n",
        "'https://images.unsplash.com/photo-1563654550488-940669eae9ea',\n",
        "'https://images.unsplash.com/photo-1596382055505-a68cc3fd62e1',\n",
        "'https://images.unsplash.com/photo-1519375722682-222902a76bf6',\n",
        "'https://images.unsplash.com/photo-1596440114792-d3e0ae1763f6',\n",
        "'https://images.unsplash.com/photo-1574784618880-a1036d310e7c']\n",
        "\n",
        "t1 = time.perf_counter()\n",
        "\n",
        "for image_url in image_urls:\n",
        "    image_bytes = requests.get(image_url).content\n",
        "    image_name = image_url.split('/')[3] #run without [3] first using the print statement below\n",
        "    #print(image_name)\n",
        "    image_name = f'image_{image_name}.jpg'\n",
        "    with open(image_name, 'wb') as image_file:\n",
        "        image_file.write(image_bytes)\n",
        "        print(f'{image_name} was downloaded...')\n",
        "\n",
        "\n",
        "t2 = time.perf_counter()\n",
        "\n",
        "print(f'Finished in {t2-t1} seconds')\n",
        "\n"
      ],
      "execution_count": null,
      "outputs": [
        {
          "output_type": "stream",
          "text": [
            "image_photo-1574696157422-07035c537916.jpg was downloaded...\n",
            "image_photo-1537319437335-81e757556deb.jpg was downloaded...\n",
            "image_photo-1563654550488-940669eae9ea.jpg was downloaded...\n",
            "image_photo-1596382055505-a68cc3fd62e1.jpg was downloaded...\n",
            "image_photo-1519375722682-222902a76bf6.jpg was downloaded...\n",
            "image_photo-1596440114792-d3e0ae1763f6.jpg was downloaded...\n",
            "image_photo-1574784618880-a1036d310e7c.jpg was downloaded...\n",
            "Finished in 13.161864621000007 seconds\n"
          ],
          "name": "stdout"
        }
      ]
    }
  ]
}